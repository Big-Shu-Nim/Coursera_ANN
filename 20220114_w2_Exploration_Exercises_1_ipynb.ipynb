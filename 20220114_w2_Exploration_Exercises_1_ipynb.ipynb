{
  "nbformat": 4,
  "nbformat_minor": 0,
  "metadata": {
    "colab": {
      "name": "20220114_w2_Exploration Exercises_1_ipynb",
      "provenance": []
    },
    "kernelspec": {
      "name": "python3",
      "display_name": "Python 3"
    },
    "language_info": {
      "name": "python"
    }
  },
  "cells": [
    {
      "cell_type": "code",
      "execution_count": 3,
      "metadata": {
        "colab": {
          "base_uri": "https://localhost:8080/"
        },
        "id": "K5szfW0Wjvzv",
        "outputId": "2401fabf-0ae5-4782-e508-b780e496eb01"
      },
      "outputs": [
        {
          "output_type": "stream",
          "name": "stdout",
          "text": [
            "Epoch 1/5\n",
            "1875/1875 [==============================] - 4s 2ms/step - loss: 0.4950 - accuracy: 0.8251\n",
            "Epoch 2/5\n",
            "1875/1875 [==============================] - 3s 2ms/step - loss: 0.3754 - accuracy: 0.8642\n",
            "Epoch 3/5\n",
            "1875/1875 [==============================] - 3s 2ms/step - loss: 0.3360 - accuracy: 0.8780\n",
            "Epoch 4/5\n",
            "1875/1875 [==============================] - 4s 2ms/step - loss: 0.3114 - accuracy: 0.8844\n",
            "Epoch 5/5\n",
            "1875/1875 [==============================] - 3s 2ms/step - loss: 0.2923 - accuracy: 0.8921\n",
            "313/313 [==============================] - 1s 1ms/step - loss: 0.3537 - accuracy: 0.8744\n"
          ]
        },
        {
          "output_type": "execute_result",
          "data": {
            "text/plain": [
              "[0.3537096679210663, 0.8744000196456909]"
            ]
          },
          "metadata": {},
          "execution_count": 3
        }
      ],
      "source": [
        "import tensorflow as tf\n",
        "import numpy as np\n",
        "import matplotlib.pyplot as plt\n",
        "\n",
        "\n",
        "fmnist = tf.keras.datasets.fashion_mnist\n",
        "(training_images, training_labels), (test_images, test_labels) = fmnist.load_data()\n",
        "\n",
        "training_images  = training_images / 255.0\n",
        "test_images = test_images / 255.0\n",
        "\n",
        "model = tf.keras.models.Sequential([tf.keras.layers.Flatten(),\n",
        "                                    tf.keras.layers.Dense(128, activation=tf.nn.relu),\n",
        "                                    tf.keras.layers.Dense(10, activation=tf.nn.softmax)]) \n",
        "model.compile(optimizer = tf.optimizers.Adam(),\n",
        "              loss = 'sparse_categorical_crossentropy', \n",
        "              metrics=['accuracy'])  \n",
        "model.fit(training_images, training_labels, epochs=5)\n",
        " \n",
        "model.evaluate(test_images, test_labels)\n"
      ]
    },
    {
      "cell_type": "code",
      "source": [
        "classifications = model.predict(test_images)\n",
        "\n",
        "print(classifications[0])"
      ],
      "metadata": {
        "colab": {
          "base_uri": "https://localhost:8080/"
        },
        "id": "vZV2KI6YlL87",
        "outputId": "65492871-2bb6-4256-f06c-b2e41fb1f1d9"
      },
      "execution_count": 4,
      "outputs": [
        {
          "output_type": "stream",
          "name": "stdout",
          "text": [
            "[6.93738048e-06 8.33556868e-09 1.19590752e-07 1.07493435e-07\n",
            " 4.39501235e-07 1.12309773e-03 1.58970033e-05 6.81147072e-03\n",
            " 4.42476278e-07 9.92041409e-01]\n"
          ]
        }
      ]
    },
    {
      "cell_type": "markdown",
      "source": [
        "위 코드는 각 클래별로 확률을 나타나 낸것이다. 순서대로 0~9번레이블 총 10개이다.\n",
        "내가 헷갈렸던것은 정답레이블이 9번인데 배열상에서 9번째 값을 봤던것이다. 정답레이블 9번은 0번을 포함\n",
        "10번째 어레이다. 9.92041409e-01은 가장 높은 확률임으로 따라서 0번 인덱스의 레이블 값은.."
      ],
      "metadata": {
        "id": "bIe15dmEqW3Q"
      }
    },
    {
      "cell_type": "code",
      "source": [
        "print(test_labels[0])"
      ],
      "metadata": {
        "colab": {
          "base_uri": "https://localhost:8080/"
        },
        "id": "zgJ927I9nk2m",
        "outputId": "a43d1f82-ea9d-4889-dd9c-b4f5e8e78964"
      },
      "execution_count": 5,
      "outputs": [
        {
          "output_type": "stream",
          "name": "stdout",
          "text": [
            "9\n"
          ]
        }
      ]
    }
  ]
}